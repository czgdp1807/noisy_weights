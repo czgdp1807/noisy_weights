{
 "cells": [
  {
   "cell_type": "markdown",
   "metadata": {
    "colab_type": "text",
    "id": "4E48-JuTRAtk"
   },
   "source": [
    "# Noisy Convolutional Neural Network Example\n",
    "\n",
    "Build a noisy convolutional neural network with TensorFlow v2.\n",
    "\n",
    "- Author: Gagandeep Singh\n",
    "- Project: https://github.com/czgdp1807/noisy_weights\n",
    "\n",
    "Experimental Details\n",
    "\n",
    "- Datasets: The MNIST database of handwritten digits has been used for training and Fashion-MNIST has been for used testing.\n",
    "\n",
    "Observations\n",
    "\n",
    "- It has been observed that accuracy of the model is highly affected on testing it with Fashion-MNIST images which is expected.\n",
    "- The uncertainty expressed by the model is high which is expected since train and test disitributions are not the same.\n",
    "\n",
    "References\n",
    "\n",
    "- [1] https://github.com/aymericdamien/TensorFlow-Examples/"
   ]
  },
  {
   "cell_type": "code",
   "execution_count": 0,
   "metadata": {
    "colab": {},
    "colab_type": "code",
    "id": "Nmo3bt2PRAto"
   },
   "outputs": [],
   "source": [
    "from __future__ import absolute_import, division, print_function\n",
    "\n",
    "import tensorflow as tf\n",
    "from tensorflow.keras import Model, layers\n",
    "import numpy as np"
   ]
  },
  {
   "cell_type": "code",
   "execution_count": 0,
   "metadata": {
    "colab": {},
    "colab_type": "code",
    "id": "rZUJ9DeqRAtu"
   },
   "outputs": [],
   "source": [
    "# MNIST dataset parameters.\n",
    "num_classes = 10 # total classes (0-9 digits).\n",
    "\n",
    "# Training parameters.\n",
    "learning_rate = 0.001\n",
    "training_steps = 200\n",
    "batch_size = 128\n",
    "display_step = 10\n",
    "\n",
    "# Network parameters.\n",
    "conv1_filters = 32 # number of filters for 1st conv layer.\n",
    "conv2_filters = 64 # number of filters for 2nd conv layer.\n",
    "fc1_units = 1024 # number of neurons for 1st fully-connected layer."
   ]
  },
  {
   "cell_type": "code",
   "execution_count": 0,
   "metadata": {
    "colab": {},
    "colab_type": "code",
    "id": "SqpCiL7jRAty"
   },
   "outputs": [],
   "source": [
    "# Prepare MNIST data.\n",
    "from tensorflow.keras.datasets import mnist\n",
    "(x_train, y_train), (x_test, y_test) = mnist.load_data()\n",
    "# Convert to float32.\n",
    "x_train, x_test = np.array(x_train, np.float32), np.array(x_test, np.float32)\n",
    "# Normalize images value from [0, 255] to [0, 1].\n",
    "x_train, x_test = x_train / 255., x_test / 255."
   ]
  },
  {
   "cell_type": "code",
   "execution_count": 0,
   "metadata": {
    "colab": {},
    "colab_type": "code",
    "id": "qQ3NMe7eRAt3"
   },
   "outputs": [],
   "source": [
    "# Use tf.data API to shuffle and batch data.\n",
    "train_data = tf.data.Dataset.from_tensor_slices((x_train, y_train))\n",
    "train_data = train_data.repeat().shuffle(5000).batch(batch_size).prefetch(1)"
   ]
  },
  {
   "cell_type": "code",
   "execution_count": 0,
   "metadata": {
    "colab": {},
    "colab_type": "code",
    "id": "2GUyn55SRAt7"
   },
   "outputs": [],
   "source": [
    "# Create TF Model.\n",
    "class ConvNet(Model):\n",
    "    # Set layers.\n",
    "    def __init__(self):\n",
    "        super(ConvNet, self).__init__()\n",
    "        # Convolution Layer with 32 filters and a kernel size of 5.\n",
    "        self.conv1 = layers.Conv2D(32, kernel_size=5, activation=tf.nn.relu)\n",
    "        # Max Pooling (down-sampling) with kernel size of 2 and strides of 2. \n",
    "        self.maxpool1 = layers.MaxPool2D(2, strides=2)\n",
    "\n",
    "        # Convolution Layer with 64 filters and a kernel size of 3.\n",
    "        self.conv2 = layers.Conv2D(64, kernel_size=3, activation=tf.nn.relu)\n",
    "        # Max Pooling (down-sampling) with kernel size of 2 and strides of 2. \n",
    "        self.maxpool2 = layers.MaxPool2D(2, strides=2)\n",
    "\n",
    "        # Flatten the data to a 1-D vector for the fully connected layer.\n",
    "        self.flatten = layers.Flatten()\n",
    "\n",
    "        # Fully connected layer.\n",
    "        self.fc1 = layers.Dense(1024)\n",
    "        # Apply Dropout (if is_training is False, dropout is not applied).\n",
    "        self.dropout = layers.Dropout(rate=0.5)\n",
    "\n",
    "        # Output layer, class prediction.\n",
    "        self.out = layers.Dense(num_classes)\n",
    "\n",
    "    # Set forward pass.\n",
    "    def call(self, x, is_training=False):\n",
    "      def add_noise(_layer):\n",
    "        noisy_weights = []\n",
    "        for weight in _layer.get_weights():\n",
    "          noisy_weights.append(weight + tf.random.normal(weight.shape, 0., 0.001))\n",
    "        _layer.set_weights(noisy_weights)\n",
    "      \n",
    "      if not is_training:\n",
    "        add_noise(self.conv1)\n",
    "        add_noise(self.conv2)\n",
    "        add_noise(self.fc1)\n",
    "        add_noise(self.out)\n",
    "      \n",
    "      x = tf.reshape(x, [-1, 28, 28, 1])\n",
    "      x = self.conv1(x)\n",
    "      x = self.maxpool1(x)\n",
    "      x = self.conv2(x)\n",
    "      x = self.maxpool2(x)\n",
    "      x = self.flatten(x)\n",
    "      x = self.fc1(x)\n",
    "      x = self.dropout(x, training=is_training)\n",
    "      x = self.out(x)\n",
    "\n",
    "      if not is_training:\n",
    "        # tf cross entropy expect logits without softmax, so only\n",
    "        # apply softmax when not training.\n",
    "        x = tf.nn.softmax(x)\n",
    "        \n",
    "    \n",
    "      return x\n",
    "\n",
    "# Build neural network model.\n",
    "conv_net = ConvNet()"
   ]
  },
  {
   "cell_type": "code",
   "execution_count": 0,
   "metadata": {
    "colab": {},
    "colab_type": "code",
    "id": "RiwSCDLXRAt_"
   },
   "outputs": [],
   "source": [
    "# Cross-Entropy Loss.\n",
    "# Note that this will apply 'softmax' to the logits.\n",
    "def cross_entropy_loss(x, y):\n",
    "    # Convert labels to int 64 for tf cross-entropy function.\n",
    "    y = tf.cast(y, tf.int64)\n",
    "    # Apply softmax to logits and compute cross-entropy.\n",
    "    loss = tf.nn.sparse_softmax_cross_entropy_with_logits(labels=y, logits=x)\n",
    "    # Average loss across the batch.\n",
    "    return tf.reduce_mean(loss)\n",
    "\n",
    "# Accuracy metric.\n",
    "def accuracy(y_pred, y_true):\n",
    "    # Predicted class is the index of highest score in prediction vector (i.e. argmax).\n",
    "    correct_prediction = tf.equal(tf.argmax(y_pred, 1), tf.cast(y_true, tf.int64))\n",
    "    return tf.reduce_mean(tf.cast(correct_prediction, tf.float32), axis=-1)\n",
    "\n",
    "# Stochastic gradient descent optimizer.\n",
    "optimizer = tf.optimizers.Adam(learning_rate)"
   ]
  },
  {
   "cell_type": "code",
   "execution_count": 0,
   "metadata": {
    "colab": {},
    "colab_type": "code",
    "id": "QLCkHJM1RAuE"
   },
   "outputs": [],
   "source": [
    "# Optimization process. \n",
    "def run_optimization(x, y):\n",
    "    # Wrap computation inside a GradientTape for automatic differentiation.\n",
    "    with tf.GradientTape() as g:\n",
    "        # Forward pass.\n",
    "        pred = conv_net(x, is_training=True)\n",
    "        # Compute loss.\n",
    "        loss = cross_entropy_loss(pred, y)\n",
    "        \n",
    "    # Variables to update, i.e. trainable variables.\n",
    "    trainable_variables = conv_net.trainable_variables\n",
    "\n",
    "    # Compute gradients.\n",
    "    gradients = g.gradient(loss, trainable_variables)\n",
    "    \n",
    "    # Update W and b following gradients.\n",
    "    optimizer.apply_gradients(zip(gradients, trainable_variables))"
   ]
  },
  {
   "cell_type": "code",
   "execution_count": 101,
   "metadata": {
    "colab": {
     "base_uri": "https://localhost:8080/",
     "height": 360
    },
    "colab_type": "code",
    "id": "QK4I40UPRAuI",
    "outputId": "f8e727f4-fa2d-4d69-db0a-fd4ecd8cdd9b"
   },
   "outputs": [
    {
     "name": "stdout",
     "output_type": "stream",
     "text": [
      "step: 10, loss: 1.765574, accuracy: 0.828125\n",
      "step: 20, loss: 1.612579, accuracy: 0.898438\n",
      "step: 30, loss: 1.586725, accuracy: 0.937500\n",
      "step: 40, loss: 1.581024, accuracy: 0.945312\n",
      "step: 50, loss: 1.528343, accuracy: 0.953125\n",
      "step: 60, loss: 1.543152, accuracy: 0.953125\n",
      "step: 70, loss: 1.541230, accuracy: 0.984375\n",
      "step: 80, loss: 1.523581, accuracy: 0.976562\n",
      "step: 90, loss: 1.522483, accuracy: 0.976562\n",
      "step: 100, loss: 1.527520, accuracy: 0.960938\n",
      "step: 110, loss: 1.551659, accuracy: 0.914062\n",
      "step: 120, loss: 1.500712, accuracy: 0.976562\n",
      "step: 130, loss: 1.502019, accuracy: 0.984375\n",
      "step: 140, loss: 1.508284, accuracy: 0.968750\n",
      "step: 150, loss: 1.516138, accuracy: 0.968750\n",
      "step: 160, loss: 1.504498, accuracy: 0.968750\n",
      "step: 170, loss: 1.494387, accuracy: 0.984375\n",
      "step: 180, loss: 1.486814, accuracy: 0.984375\n",
      "step: 190, loss: 1.525999, accuracy: 0.960938\n",
      "step: 200, loss: 1.507791, accuracy: 0.976562\n"
     ]
    }
   ],
   "source": [
    "# Run training for the given number of steps.\n",
    "for step, (batch_x, batch_y) in enumerate(train_data.take(training_steps), 1):\n",
    "    # Run the optimization to update W and b values.\n",
    "    run_optimization(batch_x, batch_y)\n",
    "    \n",
    "    if step % display_step == 0:\n",
    "        pred = conv_net(batch_x)\n",
    "        loss = cross_entropy_loss(pred, batch_y)\n",
    "        acc = accuracy(pred, batch_y)\n",
    "        print(\"step: %i, loss: %f, accuracy: %f\" % (step, loss, acc))"
   ]
  },
  {
   "cell_type": "code",
   "execution_count": 102,
   "metadata": {
    "colab": {
     "base_uri": "https://localhost:8080/",
     "height": 34
    },
    "colab_type": "code",
    "id": "BJkCpIa6RAuO",
    "outputId": "71f8854f-6fb2-44ac-df6a-c837f78f83b1"
   },
   "outputs": [
    {
     "name": "stdout",
     "output_type": "stream",
     "text": [
      "Test Accuracy: 0.973400\n"
     ]
    }
   ],
   "source": [
    "# Test model on validation set.\n",
    "pred = conv_net(x_test)\n",
    "print(\"Test Accuracy: %f\" % accuracy(pred, y_test))"
   ]
  },
  {
   "cell_type": "code",
   "execution_count": 0,
   "metadata": {
    "colab": {},
    "colab_type": "code",
    "id": "Ri7_VNNhRAuS"
   },
   "outputs": [],
   "source": [
    "# Visualize predictions.\n",
    "import matplotlib.pyplot as plt"
   ]
  },
  {
   "cell_type": "code",
   "execution_count": 105,
   "metadata": {
    "colab": {
     "base_uri": "https://localhost:8080/",
     "height": 1000
    },
    "colab_type": "code",
    "id": "bP7RtSxCRAuV",
    "outputId": "fca7f012-75fe-41a9-8dbd-3996d2bb88a5"
   },
   "outputs": [
    {
     "name": "stdout",
     "output_type": "stream",
     "text": [
      "tf.Tensor([0.05745763 0.00171397 0.1153532  0.05864814 0.14794384], shape=(5,), dtype=float32)\n"
     ]
    },
    {
     "data": {
      "image/png": "[encoded data removed]",
      "text/plain": [
       "<Figure size 432x288 with 1 Axes>"
      ]
     },
     "metadata": {
      "needs_background": "light",
      "tags": []
     },
     "output_type": "display_data"
    },
    {
     "name": "stdout",
     "output_type": "stream",
     "text": [
      "Model prediction: 2\n"
     ]
    },
    {
     "data": {
      "image/png": "[encoded data removed]",
      "text/plain": [
       "<Figure size 432x288 with 1 Axes>"
      ]
     },
     "metadata": {
      "needs_background": "light",
      "tags": []
     },
     "output_type": "display_data"
    },
    {
     "name": "stdout",
     "output_type": "stream",
     "text": [
      "Model prediction: 8\n"
     ]
    },
    {
     "data": {
      "image/png": "[encoded data removed]",
      "text/plain": [
       "<Figure size 432x288 with 1 Axes>"
      ]
     },
     "metadata": {
      "needs_background": "light",
      "tags": []
     },
     "output_type": "display_data"
    },
    {
     "name": "stdout",
     "output_type": "stream",
     "text": [
      "Model prediction: 8\n"
     ]
    },
    {
     "data": {
      "image/png": "[encoded data removed]",
      "text/plain": [
       "<Figure size 432x288 with 1 Axes>"
      ]
     },
     "metadata": {
      "needs_background": "light",
      "tags": []
     },
     "output_type": "display_data"
    },
    {
     "name": "stdout",
     "output_type": "stream",
     "text": [
      "Model prediction: 8\n"
     ]
    },
    {
     "data": {
      "image/png": "[encoded data removed]",
      "text/plain": [
       "<Figure size 432x288 with 1 Axes>"
      ]
     },
     "metadata": {
      "needs_background": "light",
      "tags": []
     },
     "output_type": "display_data"
    },
    {
     "name": "stdout",
     "output_type": "stream",
     "text": [
      "Model prediction: 8\n"
     ]
    }
   ],
   "source": [
    "def compute_entropy(preds):\n",
    "  uncertainties = []\n",
    "  for i in range(preds.shape[0]):\n",
    "    uncertainties.append(-tf.reduce_mean(tf.math.multiply(preds[i], tf.math.log(preds[i]))))\n",
    "  return tf.convert_to_tensor(uncertainties)\n",
    "\n",
    "# Predict 5 images from validation set.\n",
    "from tensorflow.keras.datasets import fashion_mnist\n",
    "_, (x_test, _) = fashion_mnist.load_data()\n",
    "x_test = np.array(x_test, np.float32)\n",
    "x_test = x_test / 255.\n",
    "n_images = 5\n",
    "test_images = x_test[:n_images]\n",
    "n_samples = 10\n",
    "predictions = []\n",
    "for i in range(n_samples):\n",
    "  predictions.append(conv_net(test_images))\n",
    "predictions = tf.convert_to_tensor(predictions)\n",
    "predictions = tf.reduce_mean(predictions, 0)\n",
    "uncertainty = compute_entropy(predictions)\n",
    "print(uncertainty)\n",
    "\n",
    "# Display image and model prediction.\n",
    "for i in range(n_images):\n",
    "    plt.imshow(np.reshape(test_images[i], [28, 28]), cmap='gray')\n",
    "    plt.show()\n",
    "    print(\"Model prediction: %i\" % np.argmax(predictions.numpy()[i]))"
   ]
  }
 ],
 "metadata": {
  "colab": {
   "name": "convolutional_network.ipynb",
   "provenance": []
  },
  "kernelspec": {
   "display_name": "Python 3",
   "language": "python",
   "name": "python3"
  },
  "language_info": {
   "codemirror_mode": {
    "name": "ipython",
    "version": 3
   },
   "file_extension": ".py",
   "mimetype": "text/x-python",
   "name": "python",
   "nbconvert_exporter": "python",
   "pygments_lexer": "ipython3",
   "version": "3.7.3"
  }
 },
 "nbformat": 4,
 "nbformat_minor": 1
}
